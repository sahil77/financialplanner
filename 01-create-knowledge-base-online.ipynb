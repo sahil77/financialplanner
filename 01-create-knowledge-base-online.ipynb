{
 "cells": [
  {
   "cell_type": "markdown",
   "id": "a0bb5c39-2fde-4336-8127-8debe7cb2741",
   "metadata": {
    "pycharm": {
     "name": "#%% md\n"
    }
   },
   "source": [
    "# Create an Agent with a single Knowledge Base only\n",
    "\n",
    "In this notebook you will learn how to create an Amazon Bedrock Agent that connects to a single Knowledge Bases for Amazon Bedrock to retrieve company data and complete tasks. \n",
    "\n",
    "The use case for this notebook is the Amazon Bedrock Documentation pages stored as PDFs. It will allow you to ask questions about Amazon Bedrock and get answers based on documents available in the Knowledge Base.\n",
    "\n",
    "The steps to complete this notebook are:\n",
    "\n",
    "1. Import the needed libraries\n",
    "1. Create an S3 bucket and upload the data to it\n",
    "1. Create the Knowledge Base for Amazon Bedrock and sync data to Knowledge Base\n",
    "1. Create the Agent for Amazon Bedrock\n",
    "1. Test the Agent\n",
    "1. Clean up the resources created"
   ]
  },
  {
   "cell_type": "markdown",
   "id": "076a5aba-9735-4e98-8a53-0daccd7e94b0",
   "metadata": {
    "pycharm": {
     "name": "#%% md\n"
    }
   },
   "source": [
    "## 1. Import the needed libraries"
   ]
  },
  {
   "cell_type": "code",
   "execution_count": 1,
   "id": "ac05c073-d45b-4d85-9bf8-ae10aa78be8d",
   "metadata": {
    "pycharm": {
     "name": "#%%\n"
    },
    "tags": []
   },
   "outputs": [
    {
     "name": "stdout",
     "output_type": "stream",
     "text": [
      "\u001b[31mERROR: pip's dependency resolver does not currently take into account all the packages that are installed. This behaviour is the source of the following dependency conflicts.\n",
      "dash 2.17.0 requires dash-core-components==2.0.0, which is not installed.\n",
      "dash 2.17.0 requires dash-html-components==2.0.0, which is not installed.\n",
      "dash 2.17.0 requires dash-table==5.0.0, which is not installed.\n",
      "sparkmagic 0.21.0 requires pandas<2.0.0,>=0.17.1, but you have pandas 2.1.4 which is incompatible.\u001b[0m\u001b[31m\n",
      "\u001b[0m\u001b[31mERROR: pip's dependency resolver does not currently take into account all the packages that are installed. This behaviour is the source of the following dependency conflicts.\n",
      "aiobotocore 2.12.2 requires botocore<1.34.52,>=1.34.41, but you have botocore 1.37.12 which is incompatible.\u001b[0m\u001b[31m\n",
      "\u001b[0m"
     ]
    }
   ],
   "source": [
    "!pip install --upgrade -q opensearch-py\n",
    "!pip install --upgrade -q requests-aws4auth\n",
    "!pip install --upgrade -q boto3\n",
    "!pip install --upgrade -q botocore\n",
    "!pip install --upgrade -q awscli"
   ]
  },
  {
   "cell_type": "code",
   "execution_count": 1,
   "id": "e8ad6ec2-b283-4c5d-879f-e397e46568c0",
   "metadata": {
    "pycharm": {
     "name": "#%%\n"
    },
    "tags": []
   },
   "outputs": [],
   "source": [
    "import logging\n",
    "import boto3\n",
    "import time\n",
    "import json\n",
    "import uuid\n",
    "import pprint\n",
    "import os\n",
    "from opensearchpy import OpenSearch, RequestsHttpConnection\n",
    "from requests_aws4auth import AWS4Auth"
   ]
  },
  {
   "cell_type": "code",
   "execution_count": 2,
   "id": "d2b2d607-c1f2-4cbb-9f89-d935676e0101",
   "metadata": {
    "pycharm": {
     "name": "#%%\n"
    },
    "tags": []
   },
   "outputs": [],
   "source": [
    "# setting logger\n",
    "logging.basicConfig(format='[%(asctime)s] p%(process)s {%(filename)s:%(lineno)d} %(levelname)s - %(message)s', level=logging.INFO)\n",
    "logger = logging.getLogger(__name__)"
   ]
  },
  {
   "cell_type": "code",
   "execution_count": 3,
   "id": "ec5d7363-f715-4849-968b-cd4eb5fae3b0",
   "metadata": {
    "pycharm": {
     "name": "#%%\n"
    },
    "tags": []
   },
   "outputs": [],
   "source": [
    "# getting boto3 clients for required AWS services\n",
    "sts_client = boto3.client('sts')\n",
    "iam_client = boto3.client('iam')\n",
    "s3_client = boto3.client('s3')\n",
    "lambda_client = boto3.client('lambda')\n",
    "bedrock_agent_client = boto3.client('bedrock-agent')\n",
    "bedrock_agent_runtime_client = boto3.client('bedrock-agent-runtime')\n",
    "open_search_serverless_client = boto3.client('opensearchserverless')"
   ]
  },
  {
   "cell_type": "code",
   "execution_count": 4,
   "id": "c5ab4b38-bb05-4771-9c29-6e48602b3244",
   "metadata": {
    "pycharm": {
     "name": "#%%\n"
    },
    "tags": []
   },
   "outputs": [
    {
     "data": {
      "text/plain": [
       "('ap-south-1', '572285620711')"
      ]
     },
     "execution_count": 4,
     "metadata": {},
     "output_type": "execute_result"
    }
   ],
   "source": [
    "session = boto3.session.Session()\n",
    "region = session.region_name\n",
    "account_id = sts_client.get_caller_identity()[\"Account\"]\n",
    "region, account_id"
   ]
  },
  {
   "cell_type": "code",
   "execution_count": 5,
   "id": "3162191e-74ae-4ded-9dbf-0d0e6eb70cbc",
   "metadata": {
    "tags": []
   },
   "outputs": [],
   "source": [
    "userid = 'sahil'"
   ]
  },
  {
   "cell_type": "code",
   "execution_count": 6,
   "id": "ec1c499b-a834-4928-92c9-0091ae0d381b",
   "metadata": {
    "pycharm": {
     "name": "#%%\n"
    },
    "tags": []
   },
   "outputs": [],
   "source": [
    "# Generate random prefix for unique IAM roles, agent name and S3 Bucket and \n",
    "# assign variables\n",
    "suffix = f\"{region}-{userid}\"\n",
    "\n",
    "kb_name = f'bedrock-docs-kb-{suffix}'\n",
    "data_source_name = f'bedrock-docs-kb-docs-{suffix}'\n",
    "kb_files_path = 'kb_documents'\n",
    "kb_key = 'kb_documents'\n",
    "kb_role_name = f'BedrockExecutionRoleForKB_docs-{suffix}'\n",
    "kb_bedrock_allow_policy_name = f\"bd-kb-bedrock-allow-{suffix}\"\n",
    "kb_aoss_allow_policy_name = f\"bd-kb-aoss-allow-{suffix}\"\n",
    "kb_s3_allow_policy_name = f\"bd-kb-s3-allow-{suffix}\"\n",
    "kb_collection_name = f'bd-kbc-{suffix}'\n",
    "\n",
    "# Select Cohere Embedd Model as the embedding model\n",
    "embedding_model_arn = f'arn:aws:bedrock:{region}::foundation-model/cohere.embed-english-v3'\n",
    "kb_vector_index_name = f\"bedrock-knowledge-base-index\"\n",
    "kb_metadataField = f'bedrock-knowledge-base-metadata'\n",
    "kb_textField = 'bedrock-knowledge-base-text'\n",
    "kb_vectorField = 'bedrock-knowledge-base-vector'\n",
    "model_id = \"anthropic.claude-3-sonnet-20240229-v1:0\"\n",
    "model_arn = f'arn:aws:bedrock:{region}::foundation-model/anthropic.claude-3-sonnet-20240229-v1:0'"
   ]
  },
  {
   "cell_type": "markdown",
   "id": "6ad39aa6-42bf-4146-9f87-fbb18f674326",
   "metadata": {
    "pycharm": {
     "name": "#%% md\n"
    }
   },
   "source": [
    "## 2. Create a Knowledge Base for Amazon Bedrock\n",
    "\n",
    "In this section we will go through all the steps to create and test a Knowledge Base. \n",
    "\n",
    "These are the steps to complete:\n",
    "    \n",
    "1. Create a Knowledge Base Role and its policies\n",
    "1. Create a Vector Database\n",
    "1. Create an OpenSearch Index\n",
    "1. Create a Knowledge Base\n",
    "1. Create a data source and attach to the recently created Knowledge Base\n",
    "1. Ingest data to your knowledge Base"
   ]
  },
  {
   "cell_type": "markdown",
   "id": "4d3d808e-81ae-4205-9ac1-362bbb45d96e",
   "metadata": {
    "pycharm": {
     "name": "#%% md\n"
    }
   },
   "source": [
    "### 2.1 Create Knowledge Base Role and Policies\n",
    "\n",
    "Let's first create IAM policies to allow our Knowledge Base to access Bedrock Titan Embedding Foundation model, Amazon OpenSearch Serverless and the S3 bucket with the Knowledge Base Files.\n",
    "\n",
    "Once the policies are ready, we will create the Knowledge Base role"
   ]
  },
  {
   "cell_type": "code",
   "execution_count": 7,
   "id": "be047c6d-6d35-414e-915c-e2eec9c656eb",
   "metadata": {
    "pycharm": {
     "name": "#%%\n"
    },
    "tags": []
   },
   "outputs": [],
   "source": [
    "# Create IAM policies for KB to invoke embedding model\n",
    "bedrock_kb_allow_fm_model_policy_statement = {\n",
    "    \"Version\": \"2012-10-17\",\n",
    "    \"Statement\": [\n",
    "        {\n",
    "            \"Sid\": \"AmazonBedrockAgentBedrockFoundationModelPolicy\",\n",
    "            \"Effect\": \"Allow\",\n",
    "            \"Action\": \"bedrock:InvokeModel\",\n",
    "            \"Resource\": [\n",
    "                \"*\"\n",
    "            ]\n",
    "        }\n",
    "    ]\n",
    "}\n",
    "\n",
    "kb_bedrock_policy_json = json.dumps(bedrock_kb_allow_fm_model_policy_statement)\n",
    "\n",
    "kb_bedrock_policy = iam_client.create_policy(\n",
    "    PolicyName=kb_bedrock_allow_policy_name,\n",
    "    PolicyDocument=kb_bedrock_policy_json\n",
    ")"
   ]
  },
  {
   "cell_type": "code",
   "execution_count": 8,
   "id": "f140db46-1383-4a91-8529-e2193a28675d",
   "metadata": {
    "pycharm": {
     "name": "#%%\n"
    },
    "tags": []
   },
   "outputs": [],
   "source": [
    "# Create IAM policies for KB to access OpenSearch Serverless\n",
    "bedrock_kb_allow_aoss_policy_statement = {\n",
    "    \"Version\": \"2012-10-17\",\n",
    "    \"Statement\": [\n",
    "        {\n",
    "            \"Effect\": \"Allow\",\n",
    "            \"Action\": \"aoss:APIAccessAll\",\n",
    "            \"Resource\": [\n",
    "                f\"arn:aws:aoss:{region}:{account_id}:collection/*\"\n",
    "            ]\n",
    "        }\n",
    "    ]\n",
    "}\n",
    "\n",
    "\n",
    "kb_aoss_policy_json = json.dumps(bedrock_kb_allow_aoss_policy_statement)\n",
    "\n",
    "kb_aoss_policy = iam_client.create_policy(\n",
    "    PolicyName=kb_aoss_allow_policy_name,\n",
    "    PolicyDocument=kb_aoss_policy_json\n",
    ")"
   ]
  },
  {
   "cell_type": "code",
   "execution_count": 9,
   "id": "1b568014-8a84-4aa7-b385-e0b7cc63a9ec",
   "metadata": {
    "pycharm": {
     "name": "#%%\n"
    },
    "tags": []
   },
   "outputs": [
    {
     "data": {
      "text/plain": [
       "{'ResponseMetadata': {'RequestId': 'edb4bc69-9cb2-48ef-9bbc-4a9c0fa95056',\n",
       "  'HTTPStatusCode': 200,\n",
       "  'HTTPHeaders': {'date': 'Fri, 14 Mar 2025 05:42:12 GMT',\n",
       "   'x-amzn-requestid': 'edb4bc69-9cb2-48ef-9bbc-4a9c0fa95056',\n",
       "   'content-type': 'text/xml',\n",
       "   'content-length': '212'},\n",
       "  'RetryAttempts': 0}}"
      ]
     },
     "execution_count": 9,
     "metadata": {},
     "output_type": "execute_result"
    }
   ],
   "source": [
    "# Create IAM Role for the agent and attach IAM policies\n",
    "assume_role_policy_document = {\n",
    "    \"Version\": \"2012-10-17\",\n",
    "    \"Statement\": [{\n",
    "          \"Effect\": \"Allow\",\n",
    "          \"Principal\": {\n",
    "            \"Service\": \"bedrock.amazonaws.com\"\n",
    "          },\n",
    "          \"Action\": \"sts:AssumeRole\"\n",
    "    }]\n",
    "}\n",
    "\n",
    "assume_role_policy_document_json = json.dumps(assume_role_policy_document)\n",
    "kb_role = iam_client.create_role(\n",
    "    RoleName=kb_role_name,\n",
    "    AssumeRolePolicyDocument=assume_role_policy_document_json\n",
    ")\n",
    "\n",
    "# Pause to make sure role is created\n",
    "time.sleep(10)\n",
    "    \n",
    "iam_client.attach_role_policy(\n",
    "    RoleName=kb_role_name,\n",
    "    PolicyArn=kb_bedrock_policy['Policy']['Arn']\n",
    ")\n",
    "\n",
    "iam_client.attach_role_policy(\n",
    "    RoleName=kb_role_name,\n",
    "    PolicyArn=kb_aoss_policy['Policy']['Arn']\n",
    ")\n"
   ]
  },
  {
   "cell_type": "code",
   "execution_count": 10,
   "id": "402c9ba1-f46b-4f54-aae0-0aefe9713325",
   "metadata": {
    "pycharm": {
     "name": "#%%\n"
    },
    "tags": []
   },
   "outputs": [
    {
     "data": {
      "text/plain": [
       "'arn:aws:iam::572285620711:role/BedrockExecutionRoleForKB_docs-ap-south-1-sahil'"
      ]
     },
     "execution_count": 10,
     "metadata": {},
     "output_type": "execute_result"
    }
   ],
   "source": [
    "kb_role_arn = kb_role[\"Role\"][\"Arn\"]\n",
    "kb_role_arn"
   ]
  },
  {
   "cell_type": "markdown",
   "id": "65680beb-9562-4ed0-b354-86588a84a5e8",
   "metadata": {
    "pycharm": {
     "name": "#%% md\n"
    }
   },
   "source": [
    "### 3.2 Create Vector Database\n",
    "\n",
    "Firt of all we have to create a vector store. In this section we will use Amazon OpenSerach Serverless.\n",
    "\n",
    "Amazon OpenSearch Serverless is a serverless option in Amazon OpenSearch Service. As a developer, you can use OpenSearch Serverless to run petabyte-scale workloads without configuring, managing, and scaling OpenSearch clusters. You get the same interactive millisecond response times as OpenSearch Service with the simplicity of a serverless environment. Pay only for what you use by automatically scaling resources to provide the right amount of capacity for your application—without impacting data ingestion.\n"
   ]
  },
  {
   "cell_type": "code",
   "execution_count": 11,
   "id": "83ce2ee2-d9f7-463a-ab77-2fda11a72328",
   "metadata": {
    "pycharm": {
     "name": "#%%\n"
    },
    "tags": []
   },
   "outputs": [],
   "source": [
    "# Create OpenSearch Collection\n",
    "security_policy_json = {\n",
    "    \"Rules\": [\n",
    "        {\n",
    "            \"ResourceType\": \"collection\",\n",
    "            \"Resource\":[\n",
    "                f\"collection/{kb_collection_name}\"\n",
    "            ]\n",
    "        }\n",
    "    ],\n",
    "    \"AWSOwnedKey\": True\n",
    "}\n",
    "security_policy = open_search_serverless_client.create_security_policy(\n",
    "    description='security policy of aoss collection',\n",
    "    name=kb_collection_name,\n",
    "    policy=json.dumps(security_policy_json),\n",
    "    type='encryption'\n",
    ")"
   ]
  },
  {
   "cell_type": "code",
   "execution_count": 12,
   "id": "b1009572-4481-46ae-a733-eb82e38abc2f",
   "metadata": {
    "pycharm": {
     "name": "#%%\n"
    },
    "tags": []
   },
   "outputs": [],
   "source": [
    "network_policy_json = [\n",
    "  {\n",
    "    \"Rules\": [\n",
    "      {\n",
    "        \"Resource\": [\n",
    "          f\"collection/{kb_collection_name}\"\n",
    "        ],\n",
    "        \"ResourceType\": \"dashboard\"\n",
    "      },\n",
    "      {\n",
    "        \"Resource\": [\n",
    "          f\"collection/{kb_collection_name}\"\n",
    "        ],\n",
    "        \"ResourceType\": \"collection\"\n",
    "      }\n",
    "    ],\n",
    "    \"AllowFromPublic\": True\n",
    "  }\n",
    "]\n",
    "\n",
    "network_policy = open_search_serverless_client.create_security_policy(\n",
    "    description='network policy of aoss collection',\n",
    "    name=kb_collection_name,\n",
    "    policy=json.dumps(network_policy_json),\n",
    "    type='network'\n",
    ")"
   ]
  },
  {
   "cell_type": "code",
   "execution_count": 13,
   "id": "21f99ce9-140f-421e-b75b-9c2038d8ce18",
   "metadata": {
    "pycharm": {
     "name": "#%%\n"
    },
    "tags": []
   },
   "outputs": [
    {
     "data": {
      "text/plain": [
       "'arn:aws:sts::572285620711:assumed-role/AmazonSageMaker-ExecutionRole-20230503T131049/SageMaker'"
      ]
     },
     "execution_count": 13,
     "metadata": {},
     "output_type": "execute_result"
    }
   ],
   "source": [
    "response = sts_client.get_caller_identity()\n",
    "current_role = response['Arn']\n",
    "current_role"
   ]
  },
  {
   "cell_type": "code",
   "execution_count": 14,
   "id": "de34fcff-94d6-48f2-b309-cb2ac9d89c49",
   "metadata": {
    "pycharm": {
     "name": "#%%\n"
    },
    "tags": []
   },
   "outputs": [],
   "source": [
    "data_policy_json = [\n",
    "  {\n",
    "    \"Rules\": [\n",
    "      {\n",
    "        \"Resource\": [\n",
    "          f\"collection/{kb_collection_name}\"\n",
    "        ],\n",
    "        \"Permission\": [\n",
    "          \"aoss:DescribeCollectionItems\",\n",
    "          \"aoss:CreateCollectionItems\",\n",
    "          \"aoss:UpdateCollectionItems\",\n",
    "          \"aoss:DeleteCollectionItems\"\n",
    "        ],\n",
    "        \"ResourceType\": \"collection\"\n",
    "      },\n",
    "      {\n",
    "        \"Resource\": [\n",
    "          f\"index/{kb_collection_name}/*\"\n",
    "        ],\n",
    "        \"Permission\": [\n",
    "            \"aoss:CreateIndex\",\n",
    "            \"aoss:DeleteIndex\",\n",
    "            \"aoss:UpdateIndex\",\n",
    "            \"aoss:DescribeIndex\",\n",
    "            \"aoss:ReadDocument\",\n",
    "            \"aoss:WriteDocument\"\n",
    "        ],\n",
    "        \"ResourceType\": \"index\"\n",
    "      }\n",
    "    ],\n",
    "    \"Principal\": [\n",
    "        kb_role_arn,\n",
    "        f\"arn:aws:sts::{account_id}:assumed-role/Admin/*\",\n",
    "        current_role\n",
    "    ],\n",
    "    \"Description\": \"\"\n",
    "  }\n",
    "]\n",
    "\n",
    "data_policy = open_search_serverless_client.create_access_policy(\n",
    "    description='data access policy for aoss collection',\n",
    "    name=kb_collection_name,\n",
    "    policy=json.dumps(data_policy_json),\n",
    "    type='data'\n",
    ")\n"
   ]
  },
  {
   "cell_type": "code",
   "execution_count": 15,
   "id": "15624c92-e657-4905-954b-c085307bcb14",
   "metadata": {
    "pycharm": {
     "name": "#%%\n"
    },
    "tags": []
   },
   "outputs": [
    {
     "data": {
      "text/plain": [
       "{'createCollectionDetail': {'id': 'eudoiyat6caqsagryot9',\n",
       "  'name': 'bd-kbc-ap-south-1-sahil',\n",
       "  'status': 'CREATING',\n",
       "  'type': 'VECTORSEARCH',\n",
       "  'description': 'OpenSearch collection for Amazon Bedrock Knowledge Base',\n",
       "  'arn': 'arn:aws:aoss:ap-south-1:572285620711:collection/eudoiyat6caqsagryot9',\n",
       "  'kmsKeyArn': 'auto',\n",
       "  'standbyReplicas': 'DISABLED',\n",
       "  'createdDate': 1741930932989,\n",
       "  'lastModifiedDate': 1741930932989},\n",
       " 'ResponseMetadata': {'RequestId': 'bc8a1dea-016e-4d52-bff7-896e294b24d0',\n",
       "  'HTTPStatusCode': 200,\n",
       "  'HTTPHeaders': {'x-amzn-requestid': 'bc8a1dea-016e-4d52-bff7-896e294b24d0',\n",
       "   'date': 'Fri, 14 Mar 2025 05:42:13 GMT',\n",
       "   'content-type': 'application/x-amz-json-1.0',\n",
       "   'content-length': '389',\n",
       "   'connection': 'keep-alive'},\n",
       "  'RetryAttempts': 0}}"
      ]
     },
     "execution_count": 15,
     "metadata": {},
     "output_type": "execute_result"
    }
   ],
   "source": [
    "opensearch_collection_response = open_search_serverless_client.create_collection(\n",
    "    description='OpenSearch collection for Amazon Bedrock Knowledge Base',\n",
    "    name=kb_collection_name,\n",
    "    standbyReplicas='DISABLED',\n",
    "    type='VECTORSEARCH'\n",
    ")\n",
    "opensearch_collection_response"
   ]
  },
  {
   "cell_type": "code",
   "execution_count": 16,
   "id": "5acb0d1d-8813-4a36-b4e0-176116504c7f",
   "metadata": {
    "pycharm": {
     "name": "#%%\n"
    },
    "tags": []
   },
   "outputs": [
    {
     "data": {
      "text/plain": [
       "'arn:aws:aoss:ap-south-1:572285620711:collection/eudoiyat6caqsagryot9'"
      ]
     },
     "execution_count": 16,
     "metadata": {},
     "output_type": "execute_result"
    }
   ],
   "source": [
    "collection_arn = opensearch_collection_response[\"createCollectionDetail\"][\"arn\"]\n",
    "collection_arn"
   ]
  },
  {
   "cell_type": "code",
   "execution_count": 17,
   "id": "6d3b9036-1843-479d-aa36-1756f8e4da92",
   "metadata": {
    "pycharm": {
     "name": "#%%\n"
    },
    "tags": []
   },
   "outputs": [
    {
     "name": "stdout",
     "output_type": "stream",
     "text": [
      "Creating collection...\n",
      "\n",
      "Collection successfully created:\n",
      "[{'id': 'eudoiyat6caqsagryot9', 'name': 'bd-kbc-ap-south-1-sahil', 'status': 'ACTIVE', 'type': 'VECTORSEARCH', 'description': 'OpenSearch collection for Amazon Bedrock Knowledge Base', 'arn': 'arn:aws:aoss:ap-south-1:572285620711:collection/eudoiyat6caqsagryot9', 'kmsKeyArn': 'auto', 'standbyReplicas': 'DISABLED', 'createdDate': 1741930932989, 'lastModifiedDate': 1741930957747, 'collectionEndpoint': 'https://eudoiyat6caqsagryot9.ap-south-1.aoss.amazonaws.com', 'dashboardEndpoint': 'https://eudoiyat6caqsagryot9.ap-south-1.aoss.amazonaws.com/_dashboards'}]\n"
     ]
    },
    {
     "data": {
      "text/plain": [
       "'eudoiyat6caqsagryot9.ap-south-1.aoss.amazonaws.com'"
      ]
     },
     "execution_count": 17,
     "metadata": {},
     "output_type": "execute_result"
    }
   ],
   "source": [
    "# wait for collection creation\n",
    "response = open_search_serverless_client.batch_get_collection(names=[kb_collection_name])\n",
    "# Periodically check collection status\n",
    "while (response['collectionDetails'][0]['status']) == 'CREATING':\n",
    "    print('Creating collection...')\n",
    "    time.sleep(30)\n",
    "    response = open_search_serverless_client.batch_get_collection(names=[kb_collection_name])\n",
    "print('\\nCollection successfully created:')\n",
    "print(response[\"collectionDetails\"])\n",
    "# Extract the collection endpoint from the response\n",
    "host = (response['collectionDetails'][0]['collectionEndpoint'])\n",
    "final_host = host.replace(\"https://\", \"\")\n",
    "final_host"
   ]
  },
  {
   "cell_type": "markdown",
   "id": "455a3b6f-1bca-410d-86fe-5d38fe61470b",
   "metadata": {
    "pycharm": {
     "name": "#%% md\n"
    }
   },
   "source": [
    "### 3.3 - Create OpenSearch Index\n",
    "\n",
    "Let's now create a vector index to index our data\n"
   ]
  },
  {
   "cell_type": "code",
   "execution_count": 18,
   "id": "59f5e1fa-2d27-4d57-b288-327a16edd67b",
   "metadata": {
    "pycharm": {
     "name": "#%%\n"
    },
    "tags": []
   },
   "outputs": [
    {
     "name": "stderr",
     "output_type": "stream",
     "text": [
      "[2025-03-14 05:43:30,244] p945 {base.py:258} INFO - PUT https://eudoiyat6caqsagryot9.ap-south-1.aoss.amazonaws.com:443/bedrock-knowledge-base-index [status:200 request:1.913s]\n"
     ]
    },
    {
     "name": "stdout",
     "output_type": "stream",
     "text": [
      "\n",
      "Creating index:\n",
      "{'acknowledged': True, 'shards_acknowledged': True, 'index': 'bedrock-knowledge-base-index'}\n"
     ]
    }
   ],
   "source": [
    "credentials = boto3.Session().get_credentials()\n",
    "service = 'aoss'\n",
    "awsauth = AWS4Auth(\n",
    "    credentials.access_key, \n",
    "    credentials.secret_key,\n",
    "    region, \n",
    "    service, \n",
    "    session_token=credentials.token\n",
    ")\n",
    "\n",
    "# Build the OpenSearch client\n",
    "open_search_client = OpenSearch(\n",
    "    hosts=[{'host': final_host, 'port': 443}],\n",
    "    http_auth=awsauth,\n",
    "    use_ssl=True,\n",
    "    verify_certs=True,\n",
    "    connection_class=RequestsHttpConnection,\n",
    "    timeout=300\n",
    ")\n",
    "# It can take up to a minute for data access rules to be enforced\n",
    "time.sleep(45)\n",
    "index_body = {\n",
    "    \"settings\": {\n",
    "        \"index.knn\": True,\n",
    "        \"number_of_shards\": 1,\n",
    "        \"knn.algo_param.ef_search\": 512,\n",
    "        \"number_of_replicas\": 0,\n",
    "    },\n",
    "    \"mappings\": {\n",
    "        \"properties\": {}\n",
    "    }\n",
    "}\n",
    "\n",
    "index_body[\"mappings\"][\"properties\"][kb_vectorField] = {\n",
    "    \"type\": \"knn_vector\",\n",
    "    \"dimension\": 1024,\n",
    "    \"method\": {\n",
    "         \"name\": \"hnsw\",\n",
    "         \"engine\": \"faiss\"\n",
    "    },\n",
    "}\n",
    "\n",
    "index_body[\"mappings\"][\"properties\"][kb_textField] = {\n",
    "    \"type\": \"text\"\n",
    "}\n",
    "\n",
    "index_body[\"mappings\"][\"properties\"][kb_metadataField] = {\n",
    "    \"type\": \"text\"\n",
    "}\n",
    "\n",
    "# Create index\n",
    "response = open_search_client.indices.create(kb_vector_index_name, body=index_body)\n",
    "print('\\nCreating index:')\n",
    "print(response)"
   ]
  },
  {
   "cell_type": "markdown",
   "id": "2a716b75-29d1-47e2-b9a0-24887b0624ea",
   "metadata": {
    "pycharm": {
     "name": "#%% md\n"
    }
   },
   "source": [
    "### 3.5 - Create Knowledge Base\n",
    "Now that we have the Vector database available in OpenSearch Serverless, let's create a Knowledge Base and associate it with the OpenSearch DB"
   ]
  },
  {
   "cell_type": "code",
   "execution_count": 19,
   "id": "dce574a8-5eb9-4fbf-af11-08b7a05e5044",
   "metadata": {
    "pycharm": {
     "name": "#%%\n"
    },
    "tags": []
   },
   "outputs": [],
   "source": [
    "storage_configuration = {\n",
    "    'opensearchServerlessConfiguration': {\n",
    "        'collectionArn': collection_arn, \n",
    "        'fieldMapping': {\n",
    "            'metadataField': kb_metadataField,\n",
    "            'textField': kb_textField,\n",
    "            'vectorField': kb_vectorField\n",
    "        },\n",
    "        'vectorIndexName': kb_vector_index_name\n",
    "    },\n",
    "    'type': 'OPENSEARCH_SERVERLESS'\n",
    "}"
   ]
  },
  {
   "cell_type": "code",
   "execution_count": 20,
   "id": "f853d36e-cf19-4241-8cff-adecf14c3f45",
   "metadata": {
    "pycharm": {
     "name": "#%%\n"
    },
    "tags": []
   },
   "outputs": [
    {
     "name": "stdout",
     "output_type": "stream",
     "text": [
      "{'ResponseMetadata': {'HTTPHeaders': {'connection': 'keep-alive',\n",
      "                                      'content-length': '1074',\n",
      "                                      'content-type': 'application/json',\n",
      "                                      'date': 'Fri, 14 Mar 2025 05:44:15 GMT',\n",
      "                                      'x-amz-apigw-id': 'HZtHdGlHBcwEDoQ=',\n",
      "                                      'x-amzn-requestid': 'b3498aed-c163-43d8-9e95-e2a57c41a0a3',\n",
      "                                      'x-amzn-trace-id': 'Root=1-67d3c22f-1a8aec4c033bdedc3c92ab68'},\n",
      "                      'HTTPStatusCode': 202,\n",
      "                      'RequestId': 'b3498aed-c163-43d8-9e95-e2a57c41a0a3',\n",
      "                      'RetryAttempts': 0},\n",
      " 'knowledgeBase': {'createdAt': datetime.datetime(2025, 3, 14, 5, 44, 15, 414749, tzinfo=tzlocal()),\n",
      "                   'description': 'KB that contains information to answer the '\n",
      "                                  'user queries related to the financial '\n",
      "                                  'products, investments, queries, etc.',\n",
      "                   'knowledgeBaseArn': 'arn:aws:bedrock:ap-south-1:572285620711:knowledge-base/MWACDFBBUN',\n",
      "                   'knowledgeBaseConfiguration': {'type': 'VECTOR',\n",
      "                                                  'vectorKnowledgeBaseConfiguration': {'embeddingModelArn': 'arn:aws:bedrock:ap-south-1::foundation-model/cohere.embed-english-v3'}},\n",
      "                   'knowledgeBaseId': 'MWACDFBBUN',\n",
      "                   'name': 'bedrock-docs-kb-ap-south-1-sahil',\n",
      "                   'roleArn': 'arn:aws:iam::572285620711:role/BedrockExecutionRoleForKB_docs-ap-south-1-sahil',\n",
      "                   'status': 'CREATING',\n",
      "                   'storageConfiguration': {'opensearchServerlessConfiguration': {'collectionArn': 'arn:aws:aoss:ap-south-1:572285620711:collection/eudoiyat6caqsagryot9',\n",
      "                                                                                  'fieldMapping': {'metadataField': 'bedrock-knowledge-base-metadata',\n",
      "                                                                                                   'textField': 'bedrock-knowledge-base-text',\n",
      "                                                                                                   'vectorField': 'bedrock-knowledge-base-vector'},\n",
      "                                                                                  'vectorIndexName': 'bedrock-knowledge-base-index'},\n",
      "                                            'type': 'OPENSEARCH_SERVERLESS'},\n",
      "                   'updatedAt': datetime.datetime(2025, 3, 14, 5, 44, 15, 414749, tzinfo=tzlocal())}}\n"
     ]
    }
   ],
   "source": [
    "# Creating the knowledge base\n",
    "try:\n",
    "    # ensure the index is created and available\n",
    "    time.sleep(45)\n",
    "    kb_obj = bedrock_agent_client.create_knowledge_base(\n",
    "        name=kb_name, \n",
    "        description='KB that contains information to answer the user queries related to the financial products, investments, queries, etc.',\n",
    "        roleArn=kb_role_arn,\n",
    "        knowledgeBaseConfiguration={\n",
    "            'type': 'VECTOR',  # Corrected type\n",
    "            'vectorKnowledgeBaseConfiguration': {\n",
    "                'embeddingModelArn': embedding_model_arn\n",
    "            }\n",
    "        },\n",
    "        storageConfiguration=storage_configuration\n",
    "    )\n",
    "\n",
    "    # Pretty print the response\n",
    "    pprint.pprint(kb_obj)\n",
    "\n",
    "except Exception as e:\n",
    "    print(f\"Error occurred: {e}\")"
   ]
  },
  {
   "cell_type": "code",
   "execution_count": 21,
   "id": "92a7acc7-23fc-4c68-bc5d-f56c819b4e45",
   "metadata": {
    "pycharm": {
     "name": "#%%\n"
    },
    "tags": []
   },
   "outputs": [
    {
     "name": "stdout",
     "output_type": "stream",
     "text": [
      "{'ResponseMetadata': {'HTTPHeaders': {'connection': 'keep-alive',\n",
      "                                      'content-length': '1168',\n",
      "                                      'content-type': 'application/json',\n",
      "                                      'date': 'Fri, 14 Mar 2025 05:45:01 GMT',\n",
      "                                      'x-amz-apigw-id': 'HZtOmEuDBcwENyw=',\n",
      "                                      'x-amzn-requestid': '8857a974-a616-470f-a200-a0ab0abf1a3b',\n",
      "                                      'x-amzn-trace-id': 'Root=1-67d3c25d-2bb8031a4992984742a44878'},\n",
      "                      'HTTPStatusCode': 200,\n",
      "                      'RequestId': '8857a974-a616-470f-a200-a0ab0abf1a3b',\n",
      "                      'RetryAttempts': 0},\n",
      " 'dataSource': {'createdAt': datetime.datetime(2025, 3, 14, 5, 45, 1, 158129, tzinfo=tzlocal()),\n",
      "                'dataDeletionPolicy': 'DELETE',\n",
      "                'dataSourceConfiguration': {'type': 'WEB',\n",
      "                                            'webConfiguration': {'crawlerConfiguration': {'crawlerLimits': {'rateLimit': 300},\n",
      "                                                                                          'userAgentHeader': 'bedrockbot_c5ef380f-1ba4-4388-8031-99e867448371'},\n",
      "                                                                 'sourceConfiguration': {'urlConfiguration': {'seedUrls': [{'url': 'https://www.motilaloswal.com/faq/For-Investors'},\n",
      "                                                                                                                           {'url': 'https://www.motilaloswal.com/invest-in-equity'},\n",
      "                                                                                                                           {'url': 'https://www.motilaloswal.com/faq/for-traders'},\n",
      "                                                                                                                           {'url': 'https://www.motilaloswal.com/faq/research-queries'}]}}}},\n",
      "                'dataSourceId': 'DF7KXQ7UO5',\n",
      "                'description': 'DataSource for the bedrock documentation',\n",
      "                'knowledgeBaseId': 'MWACDFBBUN',\n",
      "                'name': 'bedrock-docs-kb-docs-ap-south-1-sahil',\n",
      "                'status': 'AVAILABLE',\n",
      "                'updatedAt': datetime.datetime(2025, 3, 14, 5, 45, 1, 158129, tzinfo=tzlocal()),\n",
      "                'vectorIngestionConfiguration': {'chunkingConfiguration': {'chunkingStrategy': 'FIXED_SIZE',\n",
      "                                                                           'fixedSizeChunkingConfiguration': {'maxTokens': 300,\n",
      "                                                                                                              'overlapPercentage': 20}},\n",
      "                                                 'parsingConfiguration': {'bedrockFoundationModelConfiguration': {'modelArn': 'arn:aws:bedrock:ap-south-1::foundation-model/anthropic.claude-3-sonnet-20240229-v1:0'},\n",
      "                                                                          'parsingStrategy': 'BEDROCK_FOUNDATION_MODEL'}}}}\n"
     ]
    }
   ],
   "source": [
    "parsingStrategyConfiguration = {\n",
    "    'bedrockFoundationModelConfiguration': \n",
    "        {\n",
    "            'modelArn': model_arn\n",
    "        },\n",
    "    'parsingStrategy': \"BEDROCK_FOUNDATION_MODEL\"\n",
    "}  \n",
    "\n",
    "dataSourceConfiguration={\n",
    "        'type': 'WEB',\n",
    "        'webConfiguration': {\n",
    "            'sourceConfiguration': {\n",
    "                'urlConfiguration': {\n",
    "                    'seedUrls': [\n",
    "                        {\n",
    "                            'url': 'https://www.motilaloswalmf.com/investor-education/blog/large-cap-stocks-small-cap-stocks-mid-cap-stocks-what-is-the-difference/'\n",
    "                        },\n",
    "                        {\n",
    "                            'url': 'https://www.motilaloswalmf.com/investor-education/blog/what-is-momentum-investing-a-simple-explanation/'\n",
    "                        },\n",
    "                        {\n",
    "                            'url': 'https://www.motilaloswalmf.com/investor-education/blog/the-basics-of-passive-investing-understanding-index-funds/'\n",
    "                        },\n",
    "                        {\n",
    "                            'url': 'https://www.motilaloswalmf.com/investor-education/blog/how-to-invest-in-index-funds-a-beginners-guide-motilal-oswal-mf/'\n",
    "                        },\n",
    "                        {\n",
    "                            'url': 'https://www.motilaloswalmf.com/investor-education/blog/mutual-fund-taxation-are-mutual-funds-taxable/'\n",
    "                        }\n",
    "                    ]\n",
    "                }\n",
    "            },\n",
    "            'crawlerConfiguration': {\n",
    "                'crawlerLimits': {\n",
    "                    'rateLimit': 300\n",
    "                }\n",
    "            }\n",
    "        }\n",
    "}\n",
    "\n",
    "knowledge_base_id = kb_obj[\"knowledgeBase\"][\"knowledgeBaseId\"]\n",
    "knowledge_base_arn = kb_obj[\"knowledgeBase\"][\"knowledgeBaseArn\"]\n",
    "\n",
    "chunking_strategy_configuration = {\n",
    "    \"chunkingStrategy\": \"FIXED_SIZE\",\n",
    "    \"fixedSizeChunkingConfiguration\": {\n",
    "        \"maxTokens\": 300,\n",
    "        \"overlapPercentage\": 20\n",
    "    }\n",
    "}\n",
    "\n",
    "# Create the data source\n",
    "try:\n",
    "    # ensure that the KB is created and available\n",
    "    time.sleep(45)\n",
    "    data_source_response = bedrock_agent_client.create_data_source(\n",
    "        knowledgeBaseId=knowledge_base_id,\n",
    "        name=data_source_name,\n",
    "        description='DataSource for the bedrock documentation',\n",
    "        dataSourceConfiguration=dataSourceConfiguration,\n",
    "        vectorIngestionConfiguration = {\n",
    "            \"chunkingConfiguration\": chunking_strategy_configuration,\n",
    "            \"parsingConfiguration\" : parsingStrategyConfiguration\n",
    "        }\n",
    "    )\n",
    "\n",
    "    # Pretty print the response\n",
    "    pprint.pprint(data_source_response)\n",
    "\n",
    "except Exception as e:\n",
    "    print(f\"Error occurred: {e}\")\n"
   ]
  },
  {
   "cell_type": "code",
   "execution_count": 32,
   "id": "e8606132-245f-47c2-8bdd-9666e9d9f848",
   "metadata": {},
   "outputs": [
    {
     "name": "stdout",
     "output_type": "stream",
     "text": [
      "DF7KXQ7UO5\n"
     ]
    }
   ],
   "source": [
    "data_source_id = data_source_response['dataSource']['dataSourceId']\n",
    "print(data_source_id)"
   ]
  },
  {
   "cell_type": "markdown",
   "id": "096bf3a5-4633-49a4-92fb-2d2f90326f94",
   "metadata": {},
   "source": [
    "Keep the KD ID handy"
   ]
  },
  {
   "cell_type": "markdown",
   "id": "f9791ecb-9949-4a2d-9ff6-ae463be967cd",
   "metadata": {
    "pycharm": {
     "name": "#%% md\n"
    }
   },
   "source": [
    "### 3.6 - Start ingestion job\n",
    "\n",
    "Once the Knowledge Base and Data Source are created, we can start the ingestion job. During the ingestion job, Knowledge Base will fetch the documents in the data source, pre-process it to extract text, chunk it based on the chunking size provided, create embeddings of each chunk and then write it to the vector database, in this case Amazon OpenSource Serverless.\n"
   ]
  },
  {
   "cell_type": "code",
   "execution_count": 22,
   "id": "ab88c732-d26b-442e-a502-4a2218e65c80",
   "metadata": {
    "pycharm": {
     "name": "#%%\n"
    },
    "tags": []
   },
   "outputs": [],
   "source": [
    "# Start an ingestion job\n",
    "data_source_id = data_source_response[\"dataSource\"][\"dataSourceId\"]\n",
    "start_job_response = bedrock_agent_client.start_ingestion_job(\n",
    "    knowledgeBaseId=knowledge_base_id, \n",
    "    dataSourceId=data_source_id\n",
    ")\n"
   ]
  },
  {
   "cell_type": "code",
   "execution_count": 33,
   "id": "bd5ab12e-ab0d-4a48-ad9a-1a09928d5abc",
   "metadata": {},
   "outputs": [
    {
     "name": "stdout",
     "output_type": "stream",
     "text": [
      "M3SJDEBVQ7\n"
     ]
    }
   ],
   "source": [
    "ingestion_job_id = start_job_response[\"ingestionJob\"]['ingestionJobId']\n",
    "print(ingestion_job_id)"
   ]
  },
  {
   "cell_type": "code",
   "execution_count": 34,
   "id": "412cc774-d6e2-45ff-a8eb-f5f9db0e5608",
   "metadata": {},
   "outputs": [
    {
     "name": "stdout",
     "output_type": "stream",
     "text": [
      "{'dataSourceId': 'DF7KXQ7UO5', 'failureReasons': ['[\"Skipped document: https://www.motilaloswal.com/invest-in-equity. The URL was redirected to a content location outside of the specified scope and filters that you set as part of your data source configuration. See information on your selected data source, Web Crawler: https://docs.aws.amazon.com/bedrock/latest/userguide/data-source-connectors.html\",\"Skipped document: https://www.motilaloswal.com/faq/For-Investors. The URL was redirected to a content location outside of the specified scope and filters that you set as part of your data source configuration. See information on your selected data source, Web Crawler: https://docs.aws.amazon.com/bedrock/latest/userguide/data-source-connectors.html\"]'], 'ingestionJobId': 'M3SJDEBVQ7', 'knowledgeBaseId': 'MWACDFBBUN', 'startedAt': datetime.datetime(2025, 3, 14, 5, 45, 3, 282790, tzinfo=tzlocal()), 'statistics': {'numberOfDocumentsDeleted': 0, 'numberOfDocumentsFailed': 2, 'numberOfDocumentsScanned': 4, 'numberOfMetadataDocumentsModified': 0, 'numberOfMetadataDocumentsScanned': 0, 'numberOfModifiedDocumentsIndexed': 0, 'numberOfNewDocumentsIndexed': 2}, 'status': 'COMPLETE', 'updatedAt': datetime.datetime(2025, 3, 14, 5, 50, 33, 913003, tzinfo=tzlocal())}\n"
     ]
    }
   ],
   "source": [
    "# Get job \n",
    "while(job['status']!='COMPLETE' ):\n",
    "  get_job_response = bedrock_agent_client.get_ingestion_job(\n",
    "      knowledgeBaseId = knowledge_base_id,\n",
    "        dataSourceId = data_source_id,\n",
    "        ingestionJobId = ingestion_job_id\n",
    "  )\n",
    "  job = get_job_response[\"ingestionJob\"]\n",
    "print(job)"
   ]
  },
  {
   "cell_type": "markdown",
   "id": "69df6f42-e382-48b8-bbb8-74c813e6f699",
   "metadata": {
    "tags": []
   },
   "source": [
    "### 3.7 Test Knowledge Base"
   ]
  },
  {
   "cell_type": "code",
   "execution_count": 23,
   "id": "f0d43aba-669c-49b4-a46f-c66e812ae223",
   "metadata": {
    "tags": []
   },
   "outputs": [],
   "source": [
    "def retrieveAndGenerate(input, kbId, model_arn, sessionId):\n",
    "    print(input, kbId, model_arn, sessionId)\n",
    "    if sessionId != \"\":\n",
    "        return bedrock_agent_runtime_client.retrieve_and_generate(\n",
    "            input={\n",
    "                'text': input\n",
    "            },\n",
    "            retrieveAndGenerateConfiguration={\n",
    "                'type': 'KNOWLEDGE_BASE',\n",
    "                'knowledgeBaseConfiguration': {\n",
    "                    'knowledgeBaseId': kbId,\n",
    "                    'modelArn': model_arn\n",
    "                }\n",
    "            },\n",
    "            sessionId=sessionId\n",
    "        )\n",
    "    else:\n",
    "        return bedrock_agent_runtime_client.retrieve_and_generate(\n",
    "            input={\n",
    "                'text': input\n",
    "            },\n",
    "            retrieveAndGenerateConfiguration={\n",
    "                'type': 'KNOWLEDGE_BASE',\n",
    "                'knowledgeBaseConfiguration': {\n",
    "                    'knowledgeBaseId': kbId,\n",
    "                    'modelArn': model_arn\n",
    "                }\n",
    "            }\n",
    "        )"
   ]
  },
  {
   "cell_type": "code",
   "execution_count": null,
   "id": "3f8fc1fb-d293-47bc-8f6d-c1f43224ba1a",
   "metadata": {
    "tags": []
   },
   "outputs": [],
   "source": [
    "query = 'what are home loans?'\n",
    "kbResponse = retrieveAndGenerate(query, knowledge_base_id, model_arn, \"\")"
   ]
  },
  {
   "cell_type": "code",
   "execution_count": null,
   "id": "6b7dacc5-32fb-4fa3-97c4-1a64a48b9bf0",
   "metadata": {
    "tags": []
   },
   "outputs": [],
   "source": [
    "kbResponse"
   ]
  },
  {
   "cell_type": "markdown",
   "id": "15cbc834-c71f-40ae-8a12-6bc2b527ad9b",
   "metadata": {
    "pycharm": {
     "name": "#%% md\n"
    }
   },
   "source": [
    "## Conclusion\n",
    "\n",
    "We have now experimented with using boto3 SDK to create, invoke and delete an agent having a single KB connected to it.\n",
    "## Take aways\n",
    "\n",
    "Adapt this notebook to create new agents for your application\n",
    "\n",
    "## Thank You"
   ]
  },
  {
   "cell_type": "code",
   "execution_count": null,
   "id": "74d4a34c-165d-4cce-ac90-530b7826c18c",
   "metadata": {},
   "outputs": [],
   "source": []
  }
 ],
 "metadata": {
  "availableInstances": [
   {
    "_defaultOrder": 0,
    "_isFastLaunch": true,
    "category": "General purpose",
    "gpuNum": 0,
    "hideHardwareSpecs": false,
    "memoryGiB": 4,
    "name": "ml.t3.medium",
    "vcpuNum": 2
   },
   {
    "_defaultOrder": 1,
    "_isFastLaunch": false,
    "category": "General purpose",
    "gpuNum": 0,
    "hideHardwareSpecs": false,
    "memoryGiB": 8,
    "name": "ml.t3.large",
    "vcpuNum": 2
   },
   {
    "_defaultOrder": 2,
    "_isFastLaunch": false,
    "category": "General purpose",
    "gpuNum": 0,
    "hideHardwareSpecs": false,
    "memoryGiB": 16,
    "name": "ml.t3.xlarge",
    "vcpuNum": 4
   },
   {
    "_defaultOrder": 3,
    "_isFastLaunch": false,
    "category": "General purpose",
    "gpuNum": 0,
    "hideHardwareSpecs": false,
    "memoryGiB": 32,
    "name": "ml.t3.2xlarge",
    "vcpuNum": 8
   },
   {
    "_defaultOrder": 4,
    "_isFastLaunch": true,
    "category": "General purpose",
    "gpuNum": 0,
    "hideHardwareSpecs": false,
    "memoryGiB": 8,
    "name": "ml.m5.large",
    "vcpuNum": 2
   },
   {
    "_defaultOrder": 5,
    "_isFastLaunch": false,
    "category": "General purpose",
    "gpuNum": 0,
    "hideHardwareSpecs": false,
    "memoryGiB": 16,
    "name": "ml.m5.xlarge",
    "vcpuNum": 4
   },
   {
    "_defaultOrder": 6,
    "_isFastLaunch": false,
    "category": "General purpose",
    "gpuNum": 0,
    "hideHardwareSpecs": false,
    "memoryGiB": 32,
    "name": "ml.m5.2xlarge",
    "vcpuNum": 8
   },
   {
    "_defaultOrder": 7,
    "_isFastLaunch": false,
    "category": "General purpose",
    "gpuNum": 0,
    "hideHardwareSpecs": false,
    "memoryGiB": 64,
    "name": "ml.m5.4xlarge",
    "vcpuNum": 16
   },
   {
    "_defaultOrder": 8,
    "_isFastLaunch": false,
    "category": "General purpose",
    "gpuNum": 0,
    "hideHardwareSpecs": false,
    "memoryGiB": 128,
    "name": "ml.m5.8xlarge",
    "vcpuNum": 32
   },
   {
    "_defaultOrder": 9,
    "_isFastLaunch": false,
    "category": "General purpose",
    "gpuNum": 0,
    "hideHardwareSpecs": false,
    "memoryGiB": 192,
    "name": "ml.m5.12xlarge",
    "vcpuNum": 48
   },
   {
    "_defaultOrder": 10,
    "_isFastLaunch": false,
    "category": "General purpose",
    "gpuNum": 0,
    "hideHardwareSpecs": false,
    "memoryGiB": 256,
    "name": "ml.m5.16xlarge",
    "vcpuNum": 64
   },
   {
    "_defaultOrder": 11,
    "_isFastLaunch": false,
    "category": "General purpose",
    "gpuNum": 0,
    "hideHardwareSpecs": false,
    "memoryGiB": 384,
    "name": "ml.m5.24xlarge",
    "vcpuNum": 96
   },
   {
    "_defaultOrder": 12,
    "_isFastLaunch": false,
    "category": "General purpose",
    "gpuNum": 0,
    "hideHardwareSpecs": false,
    "memoryGiB": 8,
    "name": "ml.m5d.large",
    "vcpuNum": 2
   },
   {
    "_defaultOrder": 13,
    "_isFastLaunch": false,
    "category": "General purpose",
    "gpuNum": 0,
    "hideHardwareSpecs": false,
    "memoryGiB": 16,
    "name": "ml.m5d.xlarge",
    "vcpuNum": 4
   },
   {
    "_defaultOrder": 14,
    "_isFastLaunch": false,
    "category": "General purpose",
    "gpuNum": 0,
    "hideHardwareSpecs": false,
    "memoryGiB": 32,
    "name": "ml.m5d.2xlarge",
    "vcpuNum": 8
   },
   {
    "_defaultOrder": 15,
    "_isFastLaunch": false,
    "category": "General purpose",
    "gpuNum": 0,
    "hideHardwareSpecs": false,
    "memoryGiB": 64,
    "name": "ml.m5d.4xlarge",
    "vcpuNum": 16
   },
   {
    "_defaultOrder": 16,
    "_isFastLaunch": false,
    "category": "General purpose",
    "gpuNum": 0,
    "hideHardwareSpecs": false,
    "memoryGiB": 128,
    "name": "ml.m5d.8xlarge",
    "vcpuNum": 32
   },
   {
    "_defaultOrder": 17,
    "_isFastLaunch": false,
    "category": "General purpose",
    "gpuNum": 0,
    "hideHardwareSpecs": false,
    "memoryGiB": 192,
    "name": "ml.m5d.12xlarge",
    "vcpuNum": 48
   },
   {
    "_defaultOrder": 18,
    "_isFastLaunch": false,
    "category": "General purpose",
    "gpuNum": 0,
    "hideHardwareSpecs": false,
    "memoryGiB": 256,
    "name": "ml.m5d.16xlarge",
    "vcpuNum": 64
   },
   {
    "_defaultOrder": 19,
    "_isFastLaunch": false,
    "category": "General purpose",
    "gpuNum": 0,
    "hideHardwareSpecs": false,
    "memoryGiB": 384,
    "name": "ml.m5d.24xlarge",
    "vcpuNum": 96
   },
   {
    "_defaultOrder": 20,
    "_isFastLaunch": false,
    "category": "General purpose",
    "gpuNum": 0,
    "hideHardwareSpecs": true,
    "memoryGiB": 0,
    "name": "ml.geospatial.interactive",
    "supportedImageNames": [
     "sagemaker-geospatial-v1-0"
    ],
    "vcpuNum": 0
   },
   {
    "_defaultOrder": 21,
    "_isFastLaunch": true,
    "category": "Compute optimized",
    "gpuNum": 0,
    "hideHardwareSpecs": false,
    "memoryGiB": 4,
    "name": "ml.c5.large",
    "vcpuNum": 2
   },
   {
    "_defaultOrder": 22,
    "_isFastLaunch": false,
    "category": "Compute optimized",
    "gpuNum": 0,
    "hideHardwareSpecs": false,
    "memoryGiB": 8,
    "name": "ml.c5.xlarge",
    "vcpuNum": 4
   },
   {
    "_defaultOrder": 23,
    "_isFastLaunch": false,
    "category": "Compute optimized",
    "gpuNum": 0,
    "hideHardwareSpecs": false,
    "memoryGiB": 16,
    "name": "ml.c5.2xlarge",
    "vcpuNum": 8
   },
   {
    "_defaultOrder": 24,
    "_isFastLaunch": false,
    "category": "Compute optimized",
    "gpuNum": 0,
    "hideHardwareSpecs": false,
    "memoryGiB": 32,
    "name": "ml.c5.4xlarge",
    "vcpuNum": 16
   },
   {
    "_defaultOrder": 25,
    "_isFastLaunch": false,
    "category": "Compute optimized",
    "gpuNum": 0,
    "hideHardwareSpecs": false,
    "memoryGiB": 72,
    "name": "ml.c5.9xlarge",
    "vcpuNum": 36
   },
   {
    "_defaultOrder": 26,
    "_isFastLaunch": false,
    "category": "Compute optimized",
    "gpuNum": 0,
    "hideHardwareSpecs": false,
    "memoryGiB": 96,
    "name": "ml.c5.12xlarge",
    "vcpuNum": 48
   },
   {
    "_defaultOrder": 27,
    "_isFastLaunch": false,
    "category": "Compute optimized",
    "gpuNum": 0,
    "hideHardwareSpecs": false,
    "memoryGiB": 144,
    "name": "ml.c5.18xlarge",
    "vcpuNum": 72
   },
   {
    "_defaultOrder": 28,
    "_isFastLaunch": false,
    "category": "Compute optimized",
    "gpuNum": 0,
    "hideHardwareSpecs": false,
    "memoryGiB": 192,
    "name": "ml.c5.24xlarge",
    "vcpuNum": 96
   },
   {
    "_defaultOrder": 29,
    "_isFastLaunch": true,
    "category": "Accelerated computing",
    "gpuNum": 1,
    "hideHardwareSpecs": false,
    "memoryGiB": 16,
    "name": "ml.g4dn.xlarge",
    "vcpuNum": 4
   },
   {
    "_defaultOrder": 30,
    "_isFastLaunch": false,
    "category": "Accelerated computing",
    "gpuNum": 1,
    "hideHardwareSpecs": false,
    "memoryGiB": 32,
    "name": "ml.g4dn.2xlarge",
    "vcpuNum": 8
   },
   {
    "_defaultOrder": 31,
    "_isFastLaunch": false,
    "category": "Accelerated computing",
    "gpuNum": 1,
    "hideHardwareSpecs": false,
    "memoryGiB": 64,
    "name": "ml.g4dn.4xlarge",
    "vcpuNum": 16
   },
   {
    "_defaultOrder": 32,
    "_isFastLaunch": false,
    "category": "Accelerated computing",
    "gpuNum": 1,
    "hideHardwareSpecs": false,
    "memoryGiB": 128,
    "name": "ml.g4dn.8xlarge",
    "vcpuNum": 32
   },
   {
    "_defaultOrder": 33,
    "_isFastLaunch": false,
    "category": "Accelerated computing",
    "gpuNum": 4,
    "hideHardwareSpecs": false,
    "memoryGiB": 192,
    "name": "ml.g4dn.12xlarge",
    "vcpuNum": 48
   },
   {
    "_defaultOrder": 34,
    "_isFastLaunch": false,
    "category": "Accelerated computing",
    "gpuNum": 1,
    "hideHardwareSpecs": false,
    "memoryGiB": 256,
    "name": "ml.g4dn.16xlarge",
    "vcpuNum": 64
   },
   {
    "_defaultOrder": 35,
    "_isFastLaunch": false,
    "category": "Accelerated computing",
    "gpuNum": 1,
    "hideHardwareSpecs": false,
    "memoryGiB": 61,
    "name": "ml.p3.2xlarge",
    "vcpuNum": 8
   },
   {
    "_defaultOrder": 36,
    "_isFastLaunch": false,
    "category": "Accelerated computing",
    "gpuNum": 4,
    "hideHardwareSpecs": false,
    "memoryGiB": 244,
    "name": "ml.p3.8xlarge",
    "vcpuNum": 32
   },
   {
    "_defaultOrder": 37,
    "_isFastLaunch": false,
    "category": "Accelerated computing",
    "gpuNum": 8,
    "hideHardwareSpecs": false,
    "memoryGiB": 488,
    "name": "ml.p3.16xlarge",
    "vcpuNum": 64
   },
   {
    "_defaultOrder": 38,
    "_isFastLaunch": false,
    "category": "Accelerated computing",
    "gpuNum": 8,
    "hideHardwareSpecs": false,
    "memoryGiB": 768,
    "name": "ml.p3dn.24xlarge",
    "vcpuNum": 96
   },
   {
    "_defaultOrder": 39,
    "_isFastLaunch": false,
    "category": "Memory Optimized",
    "gpuNum": 0,
    "hideHardwareSpecs": false,
    "memoryGiB": 16,
    "name": "ml.r5.large",
    "vcpuNum": 2
   },
   {
    "_defaultOrder": 40,
    "_isFastLaunch": false,
    "category": "Memory Optimized",
    "gpuNum": 0,
    "hideHardwareSpecs": false,
    "memoryGiB": 32,
    "name": "ml.r5.xlarge",
    "vcpuNum": 4
   },
   {
    "_defaultOrder": 41,
    "_isFastLaunch": false,
    "category": "Memory Optimized",
    "gpuNum": 0,
    "hideHardwareSpecs": false,
    "memoryGiB": 64,
    "name": "ml.r5.2xlarge",
    "vcpuNum": 8
   },
   {
    "_defaultOrder": 42,
    "_isFastLaunch": false,
    "category": "Memory Optimized",
    "gpuNum": 0,
    "hideHardwareSpecs": false,
    "memoryGiB": 128,
    "name": "ml.r5.4xlarge",
    "vcpuNum": 16
   },
   {
    "_defaultOrder": 43,
    "_isFastLaunch": false,
    "category": "Memory Optimized",
    "gpuNum": 0,
    "hideHardwareSpecs": false,
    "memoryGiB": 256,
    "name": "ml.r5.8xlarge",
    "vcpuNum": 32
   },
   {
    "_defaultOrder": 44,
    "_isFastLaunch": false,
    "category": "Memory Optimized",
    "gpuNum": 0,
    "hideHardwareSpecs": false,
    "memoryGiB": 384,
    "name": "ml.r5.12xlarge",
    "vcpuNum": 48
   },
   {
    "_defaultOrder": 45,
    "_isFastLaunch": false,
    "category": "Memory Optimized",
    "gpuNum": 0,
    "hideHardwareSpecs": false,
    "memoryGiB": 512,
    "name": "ml.r5.16xlarge",
    "vcpuNum": 64
   },
   {
    "_defaultOrder": 46,
    "_isFastLaunch": false,
    "category": "Memory Optimized",
    "gpuNum": 0,
    "hideHardwareSpecs": false,
    "memoryGiB": 768,
    "name": "ml.r5.24xlarge",
    "vcpuNum": 96
   },
   {
    "_defaultOrder": 47,
    "_isFastLaunch": false,
    "category": "Accelerated computing",
    "gpuNum": 1,
    "hideHardwareSpecs": false,
    "memoryGiB": 16,
    "name": "ml.g5.xlarge",
    "vcpuNum": 4
   },
   {
    "_defaultOrder": 48,
    "_isFastLaunch": false,
    "category": "Accelerated computing",
    "gpuNum": 1,
    "hideHardwareSpecs": false,
    "memoryGiB": 32,
    "name": "ml.g5.2xlarge",
    "vcpuNum": 8
   },
   {
    "_defaultOrder": 49,
    "_isFastLaunch": false,
    "category": "Accelerated computing",
    "gpuNum": 1,
    "hideHardwareSpecs": false,
    "memoryGiB": 64,
    "name": "ml.g5.4xlarge",
    "vcpuNum": 16
   },
   {
    "_defaultOrder": 50,
    "_isFastLaunch": false,
    "category": "Accelerated computing",
    "gpuNum": 1,
    "hideHardwareSpecs": false,
    "memoryGiB": 128,
    "name": "ml.g5.8xlarge",
    "vcpuNum": 32
   },
   {
    "_defaultOrder": 51,
    "_isFastLaunch": false,
    "category": "Accelerated computing",
    "gpuNum": 1,
    "hideHardwareSpecs": false,
    "memoryGiB": 256,
    "name": "ml.g5.16xlarge",
    "vcpuNum": 64
   },
   {
    "_defaultOrder": 52,
    "_isFastLaunch": false,
    "category": "Accelerated computing",
    "gpuNum": 4,
    "hideHardwareSpecs": false,
    "memoryGiB": 192,
    "name": "ml.g5.12xlarge",
    "vcpuNum": 48
   },
   {
    "_defaultOrder": 53,
    "_isFastLaunch": false,
    "category": "Accelerated computing",
    "gpuNum": 4,
    "hideHardwareSpecs": false,
    "memoryGiB": 384,
    "name": "ml.g5.24xlarge",
    "vcpuNum": 96
   },
   {
    "_defaultOrder": 54,
    "_isFastLaunch": false,
    "category": "Accelerated computing",
    "gpuNum": 8,
    "hideHardwareSpecs": false,
    "memoryGiB": 768,
    "name": "ml.g5.48xlarge",
    "vcpuNum": 192
   },
   {
    "_defaultOrder": 55,
    "_isFastLaunch": false,
    "category": "Accelerated computing",
    "gpuNum": 8,
    "hideHardwareSpecs": false,
    "memoryGiB": 1152,
    "name": "ml.p4d.24xlarge",
    "vcpuNum": 96
   },
   {
    "_defaultOrder": 56,
    "_isFastLaunch": false,
    "category": "Accelerated computing",
    "gpuNum": 8,
    "hideHardwareSpecs": false,
    "memoryGiB": 1152,
    "name": "ml.p4de.24xlarge",
    "vcpuNum": 96
   },
   {
    "_defaultOrder": 57,
    "_isFastLaunch": false,
    "category": "Accelerated computing",
    "gpuNum": 0,
    "hideHardwareSpecs": false,
    "memoryGiB": 32,
    "name": "ml.trn1.2xlarge",
    "vcpuNum": 8
   },
   {
    "_defaultOrder": 58,
    "_isFastLaunch": false,
    "category": "Accelerated computing",
    "gpuNum": 0,
    "hideHardwareSpecs": false,
    "memoryGiB": 512,
    "name": "ml.trn1.32xlarge",
    "vcpuNum": 128
   },
   {
    "_defaultOrder": 59,
    "_isFastLaunch": false,
    "category": "Accelerated computing",
    "gpuNum": 0,
    "hideHardwareSpecs": false,
    "memoryGiB": 512,
    "name": "ml.trn1n.32xlarge",
    "vcpuNum": 128
   }
  ],
  "instance_type": "ml.t3.medium",
  "kernelspec": {
   "display_name": "Python 3 (ipykernel)",
   "language": "python",
   "name": "python3"
  },
  "language_info": {
   "codemirror_mode": {
    "name": "ipython",
    "version": 3
   },
   "file_extension": ".py",
   "mimetype": "text/x-python",
   "name": "python",
   "nbconvert_exporter": "python",
   "pygments_lexer": "ipython3",
   "version": "3.10.14"
  }
 },
 "nbformat": 4,
 "nbformat_minor": 5
}
